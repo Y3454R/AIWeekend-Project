{
  "nbformat": 4,
  "nbformat_minor": 0,
  "metadata": {
    "colab": {
      "provenance": []
    },
    "kernelspec": {
      "name": "python3",
      "display_name": "Python 3"
    },
    "language_info": {
      "name": "python"
    }
  },
  "cells": [
    {
      "cell_type": "markdown",
      "source": [
        "Problem #1\n",
        "\n",
        "Given an integer of array return True if  it appears twice [1,2,3,1]"
      ],
      "metadata": {
        "id": "iHcJ674RY6Q0"
      }
    },
    {
      "cell_type": "code",
      "execution_count": null,
      "metadata": {
        "id": "542dm8I8Y45U"
      },
      "outputs": [],
      "source": [
        "from typing import List\n",
        "class Solution:\n",
        "    def containsDuplicate(self, nums: List[int]) -> bool:\n",
        "        \"\"\"\n",
        "        Determines if any value appears at least twice in nums.\n",
        "\n",
        "        Time Complexity:\n",
        "        ---------------\n",
        "        O(n)\n",
        "        - We iterate through the list once.\n",
        "        - Checking membership in a hash set (n in hashset) is O(1) on average, so total is O(n).\n",
        "\n",
        "        Space Complexity:\n",
        "        ----------------\n",
        "        O(n)\n",
        "        - In the worst case (no duplicates), we store every element in the hash set.\n",
        "        \"\"\"\n",
        "        hashset = set()\n",
        "\n",
        "        for n in nums:\n",
        "            if n in hashset:\n",
        "                return True\n",
        "            hashset.add(n)\n",
        "\n",
        "        return False\n"
      ]
    },
    {
      "cell_type": "code",
      "source": [
        "sol = Solution()\n",
        "print(sol.containsDuplicate([1, 2, 3, 1]))  # Should print True\n",
        "print(sol.containsDuplicate([1, 2, 3]))    # Should print False"
      ],
      "metadata": {
        "colab": {
          "base_uri": "https://localhost:8080/"
        },
        "id": "6PIQ9LcDZOX6",
        "outputId": "3313e678-6174-4317-9b0b-fbfe7a280d58"
      },
      "execution_count": null,
      "outputs": [
        {
          "output_type": "stream",
          "name": "stdout",
          "text": [
            "True\n",
            "False\n"
          ]
        }
      ]
    },
    {
      "cell_type": "markdown",
      "source": [
        "Problem #2\n",
        "\n",
        "Given an array of integers nums and an integer target, return the indices of the two numbers such that they add up to target. (HashMap)\n",
        "\n",
        "Input: nums = [2, 7, 11, 15], target = 9\n",
        "Output: [0, 1]\n",
        "Explanation: Because nums[0] + nums[1] == 9, we return [0, 1].\n",
        "\n",
        "![explaination](https://github.com/tannisthamaiti/AIWeekend-Project/blob/main/images/1.png?raw=true)\n",
        "<br>\n",
        "![explaination](https://github.com/tannisthamaiti/AIWeekend-Project/blob/main/images/2.png?raw=true)"
      ],
      "metadata": {
        "id": "qO6GrZPfaylD"
      }
    },
    {
      "cell_type": "code",
      "source": [
        "from typing import List\n",
        "class Solution:\n",
        "    def twoSum(self, nums: List[int], target[int]) -> List[int]:\n",
        "        \"\"\"\n",
        "        Determines if any value appears at least twice in nums.\n",
        "\n",
        "        Time Complexity:\n",
        "        ---------------\n",
        "        O(n)\n",
        "        - We iterate through the list once.\n",
        "        - Checking membership in a hash set (n in hashset) is O(1) on average, so total is O(n).\n",
        "\n",
        "        Space Complexity:\n",
        "        ----------------\n",
        "        O(n)\n",
        "        - In the worst case (no duplicates), we store every element in the hash set.\n",
        "        \"\"\"\n",
        "        prevMap = {}  # val -> index\n",
        "\n",
        "        for i, n in enumerate(nums):\n",
        "            diff = target - n\n",
        "            if diff in prevMap:\n",
        "                return [prevMap[diff], i]\n",
        "            prevMap[n] = i\n",
        "\n",
        "        return"
      ],
      "metadata": {
        "id": "MU0If8hLO8Pg"
      },
      "execution_count": null,
      "outputs": []
    }
  ]
}